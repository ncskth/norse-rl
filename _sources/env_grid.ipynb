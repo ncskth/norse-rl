{
 "cells": [
  {
   "cell_type": "markdown",
   "id": "581ad65d",
   "metadata": {},
   "source": [
    "# Reinforcement learning with spiking neural networks\n",
    "\n",
    "[![Binder](https://mybinder.org/badge_logo.svg)](https://mybinder.org/v2/gh/ncskth/norse-rl/HEAD?filepath=book%2Fenv_grid.ipynb)"
   ]
  },
  {
   "cell_type": "markdown",
   "id": "1df38ae5",
   "metadata": {},
   "source": [
    "## Program your \"brain\"\n",
    "\n",
    "You can now program your \"brain\" by defining \n",
    "1. a **weight matrix** that describes synapse connectivity strength and\n",
    "2. a **neural network** that describes how signals flow from top to bottom\n",
    "\n",
    "Press the <span style=\"font-size: 280%; line-height: 24px; vertical-align: bottom;\">‣</span> button to execute the code."
   ]
  },
  {
   "cell_type": "code",
   "execution_count": null,
   "id": "1844b815",
   "metadata": {},
   "outputs": [],
   "source": []
  },
  {
   "cell_type": "code",
   "execution_count": 1,
   "id": "2bd1f3e2",
   "metadata": {},
   "outputs": [
    {
     "data": {
      "application/vnd.jupyter.widget-view+json": {
       "model_id": "6b802955f33d4d75b2bd05ee52cfe718",
       "version_major": 2,
       "version_minor": 0
      },
      "text/plain": [
       "Canvas(height=400, width=800)"
      ]
     },
     "metadata": {},
     "output_type": "display_data"
    }
   ],
   "source": [
    "from norse_rl.workshop import *\n",
    "\n",
    "## Weight matrix\n",
    "w = [ [ 0.3,  3] \n",
    "    , [ 3,  0.3] ]\n",
    "\n",
    "## Neural network\n",
    "model = norse.SequentialState(\n",
    "    norse.LIFCell(),\n",
    "    Linear(2, 2, w),\n",
    "    norse.LICell(),\n",
    ")\n",
    "\n",
    "## Execute simulation\n",
    "run(\"Gridworld-v0\", model, show_fps=True)"
   ]
  }
 ],
 "metadata": {
  "celltoolbar": "Edit Metadata",
  "interpreter": {
   "hash": "ff3c8702c41245e9707d156558dd3acf9793c0576d67939f0cfc456e1f70ad2e"
  },
  "kernelspec": {
   "display_name": "Python 3 (ipykernel)",
   "language": "python",
   "name": "python3"
  },
  "language_info": {
   "codemirror_mode": {
    "name": "ipython",
    "version": 3
   },
   "file_extension": ".py",
   "mimetype": "text/x-python",
   "name": "python",
   "nbconvert_exporter": "python",
   "pygments_lexer": "ipython3",
   "version": "3.8.10"
  }
 },
 "nbformat": 4,
 "nbformat_minor": 5
}
