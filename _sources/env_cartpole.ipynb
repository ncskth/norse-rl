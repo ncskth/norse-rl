{
 "cells": [
  {
   "cell_type": "markdown",
   "metadata": {},
   "source": [
    "# Task 1: Cartpole\n",
    "\n",
    "[![Binder](https://mybinder.org/badge_logo.svg)](https://mybinder.org/v2/gh/ncskth/norse-rl/HEAD?filepath=book%2Fenv_cartpole.ipynb)\n",
    "\n",
    "## Program your \"brain\"\n",
    "\n",
    "You can now program your \"brain\" by defining \n",
    "1. a **weight matrix** that describes synapse connectivity strength and\n",
    "2. a **neural network** that describes how signals flow from top to bottom\n",
    "\n",
    "Press the <span style=\"font-size: 280%; line-height: 24px; vertical-align: bottom;\">‣</span> button to execute the code."
   ]
  },
  {
   "cell_type": "code",
   "execution_count": 1,
   "metadata": {},
   "outputs": [
    {
     "data": {
      "application/vnd.jupyter.widget-view+json": {
       "model_id": "cfdf4423109b4fd1b17cb9589cb8b0e7",
       "version_major": 2,
       "version_minor": 0
      },
      "text/plain": [
       "Canvas(height=400, width=900)"
      ]
     },
     "metadata": {},
     "output_type": "display_data"
    },
    {
     "name": "stdout",
     "output_type": "stream",
     "text": [
      "(-0.022678426594575425, -0.08950660725302428, 0.04406009459420388, 0.14243655588433118)\n",
      "(-0.023573492667105667, -0.18736878942554458, 0.04548446015304719, 0.2955621064309688)\n",
      "(-0.025447180561361114, -0.2852387295042648, 0.04844008121735688, 0.44889909551153984)\n",
      "(-0.02829956785640376, -0.3831249601186927, 0.05292907217247228, 0.6026741194324934)\n",
      "(-0.03213081745759069, -0.48103534232684886, 0.05895581336679721, 0.757110961049489)\n",
      "(-0.03694117088085917, -0.578976739576105, 0.06652692297729211, 0.9124292981712137)\n",
      "(-0.04273093827662022, -0.6769546756919135, 0.07565121595900424, 1.0688433424696084)\n",
      "(-0.049500485033539356, -0.7749729714198704, 0.08633964938370033, 1.226560384083202)\n",
      "(-0.05725021474773806, -0.8730333545217938, 0.09860525322453234, 1.3857792189036382)\n",
      "(-0.06598054829295599, -0.9711350390875587, 0.11246304541356872, 1.5466884380378105)\n",
      "(-0.07569189868383158, -1.069274270622961, 0.12792992979394682, 1.7094645623387479)\n",
      "(-0.08638464139006119, -1.1674438346707938, 0.1450245754173343, 1.874270009429413)\n",
      "(-0.09805907973676913, -1.2656325282855863, 0.16376727551162842, 2.0412508865581174)\n",
      "(-0.11071540501962499, -1.3638245956834572, 0.1841797843772096, 2.210534610179519)\n",
      "(-0.12435365097645956, -1.4619991318965533, 0.2062851304790048, 2.382227362586284)\n",
      "(-0.13897364229542508, -1.5601294613358054, 0.23010740410486763, 2.5564114074001023)\n"
     ]
    }
   ],
   "source": [
    "from norse_rl.workshop import *\n",
    "\n",
    "## Weight matrix\n",
    "w = [ [ 20,  0.3, 0.3, 0] ]\n",
    "\n",
    "## Neural network\n",
    "model = norse.SequentialState(\n",
    "    norse.LIFCell(),\n",
    "    Linear(4, 1, w),\n",
    "    norse.LIFCell(),\n",
    ")\n",
    "\n",
    "## Execute simulation\n",
    "run(\"Cartpole-v0\", model, show_fps=True)"
   ]
  }
 ],
 "metadata": {
  "interpreter": {
   "hash": "ff3c8702c41245e9707d156558dd3acf9793c0576d67939f0cfc456e1f70ad2e"
  },
  "kernelspec": {
   "display_name": "Python 3 (ipykernel)",
   "language": "python",
   "name": "python3"
  },
  "language_info": {
   "codemirror_mode": {
    "name": "ipython",
    "version": 3
   },
   "file_extension": ".py",
   "mimetype": "text/x-python",
   "name": "python",
   "nbconvert_exporter": "python",
   "pygments_lexer": "ipython3",
   "version": "3.8.10"
  }
 },
 "nbformat": 4,
 "nbformat_minor": 2
}
