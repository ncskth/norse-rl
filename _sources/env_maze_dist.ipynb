{
 "cells": [
  {
   "cell_type": "markdown",
   "id": "d3f92faa",
   "metadata": {},
   "source": [
    "# Task 4: Mice and hedge mazes\n",
    "\n",
    "[![Binder](https://mybinder.org/badge_logo.svg)](https://mybinder.org/v2/gh/ncskth/norse-rl/HEAD?filepath=book%2Fenv_maze.ipynb)\n",
    "\n",
    "## Introduction\n",
    "\n",
    "In this task, you are supposed to guide a small mouse to eat as much cheese as possible as fast as possible. Compared to before, though, the maze is much more complicated! Additional to the olfactory information from task 3, we included a sense of *distance* to the closest cheese. Meaning, if the mouse is *close* to a cheese it gets a *weak* signal. If the cheese is far away, the signal is strong. Maybe this is useful for your mouse?\n",
    "\n",
    "\n",
    "## How to program your \"brain\"\n",
    "\n",
    "In the code cell below, you can program your \"brain\" by defining \n",
    "1. a **weight matrix** that describes synapse connectivity strength and\n",
    "2. a **neural network** that describes how signals flow from top to bottom\n",
    "\n",
    "Go ahead, try to adjust the weights and change your network below to help your mouse find its beloved cheese!\n",
    "\n",
    "**To run the code below**, 1) focus the cell with your mouse, and 2) press the <span style=\"font-size: 280%; line-height: 24px; vertical-align: bottom;\">‣</span> button in the above panel *or* hit `ctrl+enter`.\n"
   ]
  },
  {
   "cell_type": "code",
   "execution_count": 4,
   "id": "e2706c98",
   "metadata": {},
   "outputs": [
    {
     "data": {
      "application/vnd.jupyter.widget-view+json": {
       "model_id": "9be9d75661a247a8917a767e235ce838",
       "version_major": 2,
       "version_minor": 0
      },
      "text/plain": [
       "Canvas(height=400, width=900)"
      ]
     },
     "metadata": {},
     "output_type": "display_data"
    },
    {
     "name": "stdout",
     "output_type": "stream",
     "text": [
      "End of Task ... \n"
     ]
    }
   ],
   "source": [
    "from norse_rl.workshop import *\n",
    "\n",
    "# Weight matrix\n",
    "w = [ [ -1, 0.8, 0.4, 0.0, 0.2] \n",
    "    , [  1,-0.8, 0.0, 0.8, 0.0] ]\n",
    "\n",
    "## Neural network\n",
    "model = norse.SequentialState(\n",
    "    norse.LIFCell(),\n",
    "    Linear(5, 2, w),\n",
    "    norse.LICell(),\n",
    ")\n",
    "\n",
    "## Execute simulation\n",
    "run(\"MazeworldDist-v0\", model, level=5)"
   ]
  }
 ],
 "metadata": {
  "celltoolbar": "Edit Metadata",
  "interpreter": {
   "hash": "ff3c8702c41245e9707d156558dd3acf9793c0576d67939f0cfc456e1f70ad2e"
  },
  "kernelspec": {
   "display_name": "Python 3 (ipykernel)",
   "language": "python",
   "name": "python3"
  },
  "language_info": {
   "codemirror_mode": {
    "name": "ipython",
    "version": 3
   },
   "file_extension": ".py",
   "mimetype": "text/x-python",
   "name": "python",
   "nbconvert_exporter": "python",
   "pygments_lexer": "ipython3",
   "version": "3.8.10"
  }
 },
 "nbformat": 4,
 "nbformat_minor": 5
}
