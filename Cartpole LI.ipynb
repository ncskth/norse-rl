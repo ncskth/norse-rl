{
 "cells": [
  {
   "cell_type": "code",
   "execution_count": 1,
   "id": "60bceee7",
   "metadata": {},
   "outputs": [
    {
     "data": {
      "text/plain": [
       "<pyvirtualdisplay.display.Display at 0x7fd2fc0a2640>"
      ]
     },
     "execution_count": 1,
     "metadata": {},
     "output_type": "execute_result"
    }
   ],
   "source": [
    "%matplotlib inline\n",
    "import gym  # open ai gym\n",
    "#mport pybulletgym # register PyBullet enviroments with open ai gym\n",
    "from IPython import display\n",
    "import matplotlib\n",
    "import matplotlib.pyplot as plt\n",
    "\n",
    "from pyvirtualdisplay import Display\n",
    "Display(visible=0, size=(960, 720)).start()  "
   ]
  },
  {
   "cell_type": "code",
   "execution_count": 2,
   "id": "8c7ea174",
   "metadata": {},
   "outputs": [],
   "source": [
    "env = gym.make('CartPole-v0')\n",
    "## State\n",
    "# Cart position [-4.8, 4.8]\n",
    "# Velocity [-Inf, Inf]\n",
    "# Pole Angle [-0.418 rad (-24 deg), 0.418 rad (24 deg)]\n",
    "# Pole Angular Velocity [-Inf, Inf]\n",
    "\n",
    "## Action\n",
    "# 0 left\n",
    "# 1 right"
   ]
  },
  {
   "cell_type": "code",
   "execution_count": 3,
   "id": "64c43657",
   "metadata": {},
   "outputs": [],
   "source": [
    "env.env.tau = 0.005"
   ]
  },
  {
   "cell_type": "code",
   "execution_count": 4,
   "id": "8b051967",
   "metadata": {},
   "outputs": [],
   "source": [
    "import torch\n",
    "import norse.torch as nn"
   ]
  },
  {
   "cell_type": "code",
   "execution_count": 5,
   "id": "6382a20a",
   "metadata": {},
   "outputs": [],
   "source": [
    "state = None"
   ]
  },
  {
   "cell_type": "code",
   "execution_count": 6,
   "id": "b2d893e6",
   "metadata": {},
   "outputs": [],
   "source": [
    "def ask_network(observation, state=None):\n",
    "    observation = torch.tensor(observation)\n",
    "    action, state = model(observation, state)\n",
    "    return 0 if action > 0 else 1, state"
   ]
  },
  {
   "cell_type": "code",
   "execution_count": 7,
   "id": "d4315d5b",
   "metadata": {},
   "outputs": [],
   "source": [
    "linear = torch.nn.Linear(4, 1, bias=False)\n",
    "model = nn.SequentialState(\n",
    "    linear,\n",
    "    nn.LICell()\n",
    ").eval()"
   ]
  },
  {
   "cell_type": "code",
   "execution_count": 8,
   "id": "0d86b574",
   "metadata": {},
   "outputs": [],
   "source": [
    "linear.weight = torch.nn.Parameter(torch.Tensor([[0.1, 0.1, 0.1, 0.1]]))"
   ]
  },
  {
   "cell_type": "code",
   "execution_count": 9,
   "id": "8e0f3560",
   "metadata": {},
   "outputs": [],
   "source": [
    "linear.weight = torch.nn.Parameter(torch.Tensor([[2, 1, 0., 0.]]))"
   ]
  },
  {
   "cell_type": "code",
   "execution_count": 1,
   "id": "6801af92",
   "metadata": {
    "hide_input": false
   },
   "outputs": [
    {
     "ename": "NameError",
     "evalue": "name 'env' is not defined",
     "output_type": "error",
     "traceback": [
      "\u001b[0;31m---------------------------------------------------------------------------\u001b[0m",
      "\u001b[0;31mNameError\u001b[0m                                 Traceback (most recent call last)",
      "\u001b[0;32m/tmp/ipykernel_593764/1786460587.py\u001b[0m in \u001b[0;36m<module>\u001b[0;34m\u001b[0m\n\u001b[0;32m----> 1\u001b[0;31m \u001b[0mobservation\u001b[0m \u001b[0;34m=\u001b[0m \u001b[0menv\u001b[0m\u001b[0;34m.\u001b[0m\u001b[0mreset\u001b[0m\u001b[0;34m(\u001b[0m\u001b[0;34m)\u001b[0m\u001b[0;34m\u001b[0m\u001b[0;34m\u001b[0m\u001b[0m\n\u001b[0m\u001b[1;32m      2\u001b[0m \u001b[0mstate\u001b[0m \u001b[0;34m=\u001b[0m \u001b[0;32mNone\u001b[0m\u001b[0;34m\u001b[0m\u001b[0;34m\u001b[0m\u001b[0m\n\u001b[1;32m      3\u001b[0m \u001b[0mis_done\u001b[0m \u001b[0;34m=\u001b[0m \u001b[0;32mFalse\u001b[0m\u001b[0;34m\u001b[0m\u001b[0;34m\u001b[0m\u001b[0m\n\u001b[1;32m      4\u001b[0m \u001b[0mf\u001b[0m\u001b[0;34m,\u001b[0m \u001b[0;34m(\u001b[0m\u001b[0max1\u001b[0m\u001b[0;34m,\u001b[0m \u001b[0max2\u001b[0m\u001b[0;34m)\u001b[0m \u001b[0;34m=\u001b[0m \u001b[0mplt\u001b[0m\u001b[0;34m.\u001b[0m\u001b[0msubplots\u001b[0m\u001b[0;34m(\u001b[0m\u001b[0;36m1\u001b[0m\u001b[0;34m,\u001b[0m \u001b[0;36m2\u001b[0m\u001b[0;34m,\u001b[0m \u001b[0mfigsize\u001b[0m\u001b[0;34m=\u001b[0m\u001b[0;34m(\u001b[0m\u001b[0;36m16\u001b[0m\u001b[0;34m,\u001b[0m\u001b[0;36m6\u001b[0m\u001b[0;34m)\u001b[0m\u001b[0;34m)\u001b[0m\u001b[0;34m\u001b[0m\u001b[0;34m\u001b[0m\u001b[0m\n\u001b[1;32m      5\u001b[0m \u001b[0mimg\u001b[0m \u001b[0;34m=\u001b[0m \u001b[0max1\u001b[0m\u001b[0;34m.\u001b[0m\u001b[0mimshow\u001b[0m\u001b[0;34m(\u001b[0m\u001b[0menv\u001b[0m\u001b[0;34m.\u001b[0m\u001b[0mrender\u001b[0m\u001b[0;34m(\u001b[0m\u001b[0mmode\u001b[0m\u001b[0;34m=\u001b[0m\u001b[0;34m'rgb_array'\u001b[0m\u001b[0;34m)\u001b[0m\u001b[0;34m)\u001b[0m \u001b[0;31m# only call this once\u001b[0m\u001b[0;34m\u001b[0m\u001b[0;34m\u001b[0m\u001b[0m\n",
      "\u001b[0;31mNameError\u001b[0m: name 'env' is not defined"
     ]
    }
   ],
   "source": [
    "\n",
    "observation = env.reset()\n",
    "state = None\n",
    "is_done = False\n",
    "f, (ax1, ax2) = plt.subplots(1, 2, figsize=(16,6))\n",
    "img = ax1.imshow(env.render(mode='rgb_array')) # only call this once\n",
    "vs = [0] * 50\n",
    "while not is_done:\n",
    "    display.clear_output(wait=True)\n",
    "    img.set_data(env.render(mode='rgb_array')) # just update the data\n",
    "    display.display(f)\n",
    "    action, state = ask_network(observation, state)\n",
    "    vs.append(state[-1].v.detach())\n",
    "    ax2.clear()\n",
    "    ax2.set_ylim(-2, 2)\n",
    "    ax2.plot(vs)\n",
    "    if len(vs) > 49:\n",
    "        vs = vs[1:]\n",
    "    observation, _, is_done, _ = env.step(action)"
   ]
  },
  {
   "cell_type": "code",
   "execution_count": null,
   "id": "6eb8b034",
   "metadata": {},
   "outputs": [],
   "source": []
  }
 ],
 "metadata": {
  "interpreter": {
   "hash": "ff3c8702c41245e9707d156558dd3acf9793c0576d67939f0cfc456e1f70ad2e"
  },
  "kernelspec": {
   "display_name": "Python 3 (ipykernel)",
   "language": "python",
   "name": "python3"
  },
  "language_info": {
   "codemirror_mode": {
    "name": "ipython",
    "version": 3
   },
   "file_extension": ".py",
   "mimetype": "text/x-python",
   "name": "python",
   "nbconvert_exporter": "python",
   "pygments_lexer": "ipython3",
   "version": "3.8.10"
  }
 },
 "nbformat": 4,
 "nbformat_minor": 5
}
