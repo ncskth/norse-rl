{
 "cells": [
  {
   "cell_type": "markdown",
   "id": "ecfea7a3",
   "metadata": {},
   "source": [
    "# Reinforcement learning with spiking neural networks"
   ]
  },
  {
   "cell_type": "code",
   "execution_count": 1,
   "id": "5889c704",
   "metadata": {
    "cellView": "form",
    "hide_input": false
   },
   "outputs": [],
   "source": [
    "# @title Install prerequisites\n",
    "#!pip3 install matplotlib gym --quiet\n",
    "#!pip3 install git+https://github.com/norse/norse --quiet\n",
    "#!pip3 install git+https://github.com/ncskth/norse-rl --quiet\n",
    "\n",
    "%matplotlib inline"
   ]
  },
  {
   "cell_type": "code",
   "execution_count": 10,
   "id": "2a978876",
   "metadata": {
    "cellView": "form"
   },
   "outputs": [],
   "source": [
    "# @title Simulation setup\n",
    "import gym\n",
    "import matplotlib\n",
    "import matplotlib.pyplot as plt\n",
    "import torch\n",
    "import norse.torch as norse\n",
    "import IPython.display as display\n",
    "import norse_rl # Init environment\n",
    "\n",
    "def draw_network(ax, layer_sizes, weights):\n",
    "    # Thanks to https://stackoverflow.com/a/67289898/999865\n",
    "    top = .9\n",
    "    bottom = .1\n",
    "    left = .2\n",
    "    right = .9\n",
    "    layer_sizes = [len(x) for x in layer_sizes]\n",
    "    v_spacing = 1 / max(layer_sizes)\n",
    "    h_spacing = 1 / len(layer_sizes)\n",
    "    # Nodes\n",
    "    for n, layer_size in enumerate(layer_sizes):\n",
    "        layer_top = v_spacing * (layer_size - 1) / 2. + (top + bottom) / 2.\n",
    "\n",
    "        for m in range(layer_size):\n",
    "            center = (n * h_spacing + left, layer_top - m * v_spacing)\n",
    "            radius = v_spacing / 4.\n",
    "            circle = plt.Circle(center, radius, color='w', ec='k', zorder=4)\n",
    "            ax.add_artist(circle)\n",
    "\n",
    "        # Edges\n",
    "        for n, (layer_size_a, layer_size_b) in enumerate(zip(layer_sizes[:-1], layer_sizes[1:])):\n",
    "            layer_top_a = v_spacing*(layer_size_a - 1)/2. + (top + bottom)/2.\n",
    "            layer_top_b = v_spacing*(layer_size_b - 1)/2. + (top + bottom)/2.\n",
    "            for m in range(layer_size_a):\n",
    "                for o in range(layer_size_b):\n",
    "                    weight = weights[n][o][m]\n",
    "                    width = abs(weight) * 10 # Scale so it looks bigger\n",
    "                    color = 'b' if weight < 0 else 'r'\n",
    "                    line = plt.Line2D([n*h_spacing + left, (n + 1)*h_spacing + left],\n",
    "                                      [layer_top_a - m*v_spacing, layer_top_b - o*v_spacing], \n",
    "                                      c=color, lw=width)\n",
    "                    ax.add_artist(line)\n",
    "                    \n",
    "def draw_network_update(ax, spikes):\n",
    "    is_circle = lambda c: isinstance(c, matplotlib.patches.Circle)\n",
    "    artists = list(filter(is_circle, ax.artists))\n",
    "    index = 0\n",
    "    for layer in spikes:\n",
    "        for neuron in layer:\n",
    "            color = 'b' if neuron else 'w'\n",
    "            artists[index].set_facecolor(color)\n",
    "            index += 1\n",
    "                    \n",
    "def ask_network(model, observation, state=None):\n",
    "    observation = torch.tensor(observation, dtype=torch.float32)\n",
    "    action, state = model(observation, state)\n",
    "    return action.detach().numpy(), state\n",
    "\n",
    "def weights_from_network(model):\n",
    "    weights = []\n",
    "    children = list(model.children())\n",
    "    for l in children:\n",
    "        if isinstance(l, torch.nn.Linear):\n",
    "            weights.append(l.weight)\n",
    "    assert len(weights) > 0, \"We require at least one linear layer\"\n",
    "    assert len(weights) <= len(children) // 2, \"We require at least every second layer to be a linear layer\"\n",
    "    return weights\n",
    "\n",
    "def simulate(model):\n",
    "    # Initialize environment and network\n",
    "    observation = env.reset()\n",
    "    state = None\n",
    "    \n",
    "    # Setup spike activity hooks\n",
    "    activities = []\n",
    "    def forward_state_hook(mod, inp, out):\n",
    "        activities.append(out[0].detach())\n",
    "    try:\n",
    "        model.remove_forward_state_hooks()\n",
    "        model.forward_state_hooks.clear()\n",
    "        model.register_forward_state_hooks(forward_state_hook)\n",
    "    except:\n",
    "        pass # Ignore if model already has registered hooks\n",
    "    \n",
    "    # Initialize plotting\n",
    "    # Thanks to https://matplotlib.org/stable/tutorials/advanced/blitting.html\n",
    "    f, (ax1, ax2) = plt.subplots(1, 2, figsize=(18,8))\n",
    "    ax1.axis('off')\n",
    "    ax2.axis('off')\n",
    "    # Show the plot to start caching\n",
    "    plt.show(block=False)\n",
    "    bg = f.canvas.copy_from_bbox(f.bbox)\n",
    "    # Draw initial background\n",
    "    img = ax1.imshow(env.render(mode='rgb_array'), animated=True) # only call this once\n",
    "    ax1.draw_artist(img)\n",
    "    action, state = ask_network(model, observation, state)\n",
    "    draw_network(ax2, activities, weights_from_network(model))\n",
    "    \n",
    "    # Loop until environment is done or user quits\n",
    "    is_done = False\n",
    "    try:\n",
    "        while not is_done:\n",
    "            #f.canvas.restore_region(bg)\n",
    "            display.clear_output(wait=True)\n",
    "\n",
    "            activities.clear()\n",
    "            action, state = ask_network(model, observation, state)\n",
    "            observation, _, is_done, _ = env.step(action)\n",
    "            \n",
    "            # Set visual changes\n",
    "            img.set_data(env.render(mode='rgb_array')) # just update the data\n",
    "            draw_network_update(ax2, activities)\n",
    "            \n",
    "            # Render graphics\n",
    "            f.canvas.blit(f.bbox)\n",
    "            f.canvas.flush_events()\n",
    "            display.display(f)\n",
    "            print(env.state)\n",
    "    except KeyboardInterrupt:\n",
    "        pass\n",
    "    \n",
    "\n",
    "## Setup environment\n",
    "env = gym.make(\"Gridworld-v0\")"
   ]
  },
  {
   "cell_type": "code",
   "execution_count": 11,
   "id": "cacabe6d",
   "metadata": {},
   "outputs": [
    {
     "data": {
      "image/png": "[encoded data removed]",
      "text/plain": [
       "<Figure size 1296x576 with 2 Axes>"
      ]
     },
     "metadata": {},
     "output_type": "display_data"
    },
    {
     "name": "stdout",
     "output_type": "stream",
     "text": [
      "[500.        106.5916514   0.       ]\n"
     ]
    }
   ],
   "source": [
    "linear = torch.nn.Linear(2, 2, bias=False)\n",
    "#linear_weight\n",
    "linear.weight = torch.nn.Parameter(torch.tensor([[1, 0], [0.8, 1.]]))\n",
    "model = norse.SequentialState(\n",
    "    norse.LIFCell(),\n",
    "    linear,\n",
    "    norse.LIFCell()\n",
    ")\n",
    "\n",
    "simulate(model)"
   ]
  }
 ],
 "metadata": {
  "celltoolbar": "Edit Metadata",
  "kernelspec": {
   "display_name": "Python 3 (ipykernel)",
   "language": "python",
   "name": "python3"
  },
  "language_info": {
   "codemirror_mode": {
    "name": "ipython",
    "version": 3
   },
   "file_extension": ".py",
   "mimetype": "text/x-python",
   "name": "python",
   "nbconvert_exporter": "python",
   "pygments_lexer": "ipython3",
   "version": "3.8.10"
  }
 },
 "nbformat": 4,
 "nbformat_minor": 5
}
