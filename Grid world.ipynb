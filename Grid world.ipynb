{
 "cells": [
  {
   "cell_type": "markdown",
   "id": "7ff4a9c9",
   "metadata": {},
   "source": [
    "# Reinforcement learning with spiking neural networks"
   ]
  },
  {
   "cell_type": "code",
   "execution_count": 1,
   "id": "dfdb426b",
   "metadata": {},
   "outputs": [],
   "source": [
    "# @title Install prerequisites\n",
    "#!pip3 install norse matplotlib gym\n",
    "\n",
    "%matplotlib inline"
   ]
  },
  {
   "cell_type": "code",
   "execution_count": 38,
   "id": "2a978876",
   "metadata": {},
   "outputs": [],
   "source": [
    "# @title Simulation setup\n",
    "import gym\n",
    "import matplotlib.pyplot as plt\n",
    "import torch\n",
    "import norse.torch as norse\n",
    "import IPython.display as display\n",
    "import norse_rl # Init environment\n",
    "\n",
    "def draw_network(ax, spikes):\n",
    "    # Thanks to https://stackoverflow.com/a/67289898/999865\n",
    "    top = .9\n",
    "    bottom = .1\n",
    "    left = .2\n",
    "    right = .9\n",
    "    layer_sizes = [len(x) for x in spikes]\n",
    "    v_spacing = 1 / max(layer_sizes)\n",
    "    h_spacing = 1 / len(spikes)\n",
    "    # Nodes\n",
    "    for n, layer_z in enumerate(spikes):\n",
    "        layer_size = len(layer_z)\n",
    "        layer_top = v_spacing * (layer_size - 1) / 2. + (top + bottom) / 2.\n",
    "\n",
    "        for m in range(layer_size):\n",
    "            center = (n * h_spacing + left, layer_top - m * v_spacing)\n",
    "            radius = v_spacing / 4.\n",
    "            color = 'b' if spikes[n][m] else 'w'\n",
    "            circle = plt.Circle(center, radius, color=color, ec='k', zorder=4)\n",
    "            ax.add_artist(circle)\n",
    "\n",
    "        # Edges\n",
    "        for n, (layer_size_a, layer_size_b) in enumerate(zip(layer_sizes[:-1], layer_sizes[1:])):\n",
    "            layer_top_a = v_spacing*(layer_size_a - 1)/2. + (top + bottom)/2.\n",
    "            layer_top_b = v_spacing*(layer_size_b - 1)/2. + (top + bottom)/2.\n",
    "            for m in range(layer_size_a):\n",
    "                for o in range(layer_size_b):\n",
    "                    line = plt.Line2D([n*h_spacing + left, (n + 1)*h_spacing + left],\n",
    "                                      [layer_top_a - m*v_spacing, layer_top_b - o*v_spacing], c='k')\n",
    "                    ax.add_artist(line)\n",
    "                    \n",
    "def ask_network(model, observation, state=None):\n",
    "    observation = torch.tensor(observation, dtype=torch.float32)\n",
    "    action, state = model(observation, state)\n",
    "    return action.detach().numpy(), state\n",
    "\n",
    "\n",
    "def simulate(model):\n",
    "    activities = []\n",
    "    h = id(activities)\n",
    "    def forward_state_hook(mod, inp, out):\n",
    "        activities.append(out[0].detach())\n",
    "    \n",
    "    try:\n",
    "        model.remove_forward_state_hooks()\n",
    "        model.forward_state_hooks.clear()\n",
    "        model.register_forward_state_hooks(forward_state_hook)\n",
    "    except Exception as e:\n",
    "        print(e)\n",
    "        pass # Ignore if model already has registered hooks\n",
    "    \n",
    "    # Thanks to https://matplotlib.org/stable/tutorials/advanced/blitting.html\n",
    "    observation = env.reset()\n",
    "    state = None\n",
    "    is_done = False\n",
    "    f, (ax1, ax2) = plt.subplots(1, 2, figsize=(16,6))\n",
    "    ax1.axis('off')\n",
    "    ax2.axis('off')\n",
    "    bg = f.canvas.copy_from_bbox(f.bbox)\n",
    "    dis = display.display(f, display_id=True)\n",
    "    plt.show(block=False)\n",
    "    img = ax1.imshow(env.render(mode='rgb_array'), animated=True) # only call this once\n",
    "    ax1.draw_artist(img)\n",
    "    plt.show()\n",
    "    try:\n",
    "        while not is_done:\n",
    "            activities.clear()\n",
    "            f.canvas.restore_region(bg)\n",
    "            action, state = ask_network(model, observation, state)\n",
    "            observation, _, is_done, _ = env.step([1, 1])\n",
    "            img.set_data(env.render(mode='rgb_array')) # just update the data\n",
    "            ax1.add_artist(img)\n",
    "            draw_network(ax2, activities)\n",
    "            dis.update(f)\n",
    "            f.canvas.blit(f.bbox)\n",
    "            # flush any pending GUI events, re-painting the screen if needed\n",
    "            f.canvas.flush_events()\n",
    "    except KeyboardInterrupt:\n",
    "        pass\n",
    "    \n",
    "\n",
    "## Setup environment\n",
    "env = gym.make(\"Gridworld-v0\")"
   ]
  },
  {
   "cell_type": "code",
   "execution_count": 6,
   "id": "5ed8abbe",
   "metadata": {},
   "outputs": [],
   "source": [
    "linear = torch.nn.Linear(2, 2, bias=False)\n",
    "model = norse.SequentialState(\n",
    "    norse.LIFCell(),\n",
    "    linear,\n",
    "    norse.LICell()\n",
    ")"
   ]
  },
  {
   "cell_type": "code",
   "execution_count": 39,
   "id": "7837e8d4",
   "metadata": {},
   "outputs": [
    {
     "data": {
      "image/png": "[encoded data removed]",
      "text/plain": [
       "<Figure size 1152x432 with 2 Axes>"
      ]
     },
     "metadata": {},
     "output_type": "display_data"
    },
    {
     "data": {
      "image/png": "[encoded data removed]",
      "text/plain": [
       "<Figure size 1152x432 with 2 Axes>"
      ]
     },
     "metadata": {
      "needs_background": "light"
     },
     "output_type": "display_data"
    }
   ],
   "source": [
    "simulate(model)"
   ]
  },
  {
   "cell_type": "code",
   "execution_count": null,
   "id": "da397523",
   "metadata": {},
   "outputs": [],
   "source": []
  }
 ],
 "metadata": {
  "kernelspec": {
   "display_name": "Python 3 (ipykernel)",
   "language": "python",
   "name": "python3"
  },
  "language_info": {
   "codemirror_mode": {
    "name": "ipython",
    "version": 3
   },
   "file_extension": ".py",
   "mimetype": "text/x-python",
   "name": "python",
   "nbconvert_exporter": "python",
   "pygments_lexer": "ipython3",
   "version": "3.8.10"
  }
 },
 "nbformat": 4,
 "nbformat_minor": 5
}
