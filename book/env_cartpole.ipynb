{
 "cells": [
  {
   "cell_type": "markdown",
   "metadata": {},
   "source": [
    "# Task 1: Cartpole\n",
    "\n",
    "**Click here to begin coding**: [![Binder](https://mybinder.org/badge_logo.svg)](https://mybinder.org/v2/gh/ncskth/norse-rl/HEAD?filepath=book%2Fenv_cartpole.ipynb)\n",
    "\n",
    "![Closed loop](https://github.com/ncskth/norse-rl/raw/master/book/images/CartPole.png)\n",
    "\n",
    "## Introduction\n",
    "\n",
    "In this task, you are supposed to balance a pole on a cart *for as long as possible*. The pole will wiggle back and forth, and the only thing you can do to prevent it from falling, is to move the cart left or right. For example, if the pole is falling towards the right, the cart can counter-balance that by also moving right which will force the pole towards the left. \n",
    "\n",
    "This is, of course, a delicate equilibrium. Can you keep the pole from falling using spiking neural networks?\n",
    "\n",
    "## Agent inputs and outputs\n",
    "\n",
    "The simulated pendulum provides two measured quantities: current pendulum angle and current angular velocity of the pendulum.\n",
    "Each such quantity is represented by two neurons to avoid negative activations.\n",
    "Therefore, your network receives four **inputs**: left angle, right angle, left angular velocity, and right angular velocity.\n",
    "\n",
    "| Input  | Description | Value range | \n",
    "| :----  | :---------  | :---------  |\n",
    "| **Left angle** | Angular distance towards the left | $[0;0.42]$ |\n",
    "| **Right angle** | Angular distance towards the right | $[0;0.42]$ |\n",
    "| **Left angular velocity** | Angular velocity towards the left | $[0;1]$ |\n",
    "| **Right angular velocity** | Angular velocity towards the right | $[0;1]$ |\n",
    "\n",
    "**Output** to the environment consists of a single leaky integrator neuron.\n",
    "If the neuron membrane voltage is $\\le$ 0V, the cart moves left. Otherwise, the cart moves right.\n",
    "\n",
    "$$\n",
    "cart(x) = \\begin{cases}\n",
    "\t\t\t\\text{left}, & \\text{if } x \\le 0\\\\\n",
    "            \\text{right}, & \\text{otherwise}\n",
    "\t\t \\end{cases}\n",
    "$$\n",
    "\n",
    "The environment will terminate if the pole falls more than $0.24$ radians towards the left or right.\n",
    "\n",
    "## How to program your \"brain\"\n",
    "\n",
    "In the code cell below, you can program your \"brain\" by defining \n",
    "1. a **weight matrix** that describes synapse connectivity strength and\n",
    "2. a **neural network** that describes how signals flow from top to bottom\n",
    "\n",
    "**To run the code below**, 1) focus the cell with your mouse, and 2) press the <span style=\"font-size: 280%; line-height: 24px; vertical-align: bottom;\">‣</span> button in the above panel *or* hit `ctrl+enter`."
   ]
  },
  {
   "cell_type": "code",
   "execution_count": 2,
   "metadata": {},
   "outputs": [
    {
     "ename": "AttributeError",
     "evalue": "'CartpoleEnv' object has no attribute 'food_items'",
     "output_type": "error",
     "traceback": [
      "\u001b[0;31m---------------------------------------------------------------------------\u001b[0m",
      "\u001b[0;31mAttributeError\u001b[0m                            Traceback (most recent call last)",
      "\u001b[0;32m/tmp/ipykernel_1687660/1634091614.py\u001b[0m in \u001b[0;36m<module>\u001b[0;34m\u001b[0m\n\u001b[1;32m     23\u001b[0m \u001b[0;31m## Simulate your neural network\u001b[0m\u001b[0;34m\u001b[0m\u001b[0;34m\u001b[0m\u001b[0;34m\u001b[0m\u001b[0m\n\u001b[1;32m     24\u001b[0m \u001b[0;31m##\u001b[0m\u001b[0;34m\u001b[0m\u001b[0;34m\u001b[0m\u001b[0;34m\u001b[0m\u001b[0m\n\u001b[0;32m---> 25\u001b[0;31m \u001b[0mrun\u001b[0m\u001b[0;34m(\u001b[0m\u001b[0;34m\"Cartpole-v0\"\u001b[0m\u001b[0;34m,\u001b[0m \u001b[0mmodel\u001b[0m\u001b[0;34m)\u001b[0m\u001b[0;34m\u001b[0m\u001b[0;34m\u001b[0m\u001b[0m\n\u001b[0m",
      "\u001b[0;32m~/norse-rl/norse_rl/workshop.py\u001b[0m in \u001b[0;36mrun\u001b[0;34m(environment, model, **kwargs)\u001b[0m\n\u001b[1;32m     18\u001b[0m         \u001b[0msim_args\u001b[0m\u001b[0;34m[\u001b[0m\u001b[0;34m'show_fps'\u001b[0m\u001b[0;34m]\u001b[0m \u001b[0;34m=\u001b[0m \u001b[0mkwargs\u001b[0m\u001b[0;34m[\u001b[0m\u001b[0;34m'show_fps'\u001b[0m\u001b[0;34m]\u001b[0m\u001b[0;34m\u001b[0m\u001b[0;34m\u001b[0m\u001b[0m\n\u001b[1;32m     19\u001b[0m     \u001b[0msimulation\u001b[0m \u001b[0;34m=\u001b[0m \u001b[0msimulate\u001b[0m\u001b[0;34m.\u001b[0m\u001b[0mSimulation\u001b[0m\u001b[0;34m(\u001b[0m\u001b[0menv\u001b[0m\u001b[0;34m,\u001b[0m \u001b[0;34m**\u001b[0m\u001b[0msim_args\u001b[0m\u001b[0;34m)\u001b[0m\u001b[0;34m\u001b[0m\u001b[0;34m\u001b[0m\u001b[0m\n\u001b[0;32m---> 20\u001b[0;31m     \u001b[0;32mreturn\u001b[0m \u001b[0msimulation\u001b[0m\u001b[0;34m.\u001b[0m\u001b[0mrun\u001b[0m\u001b[0;34m(\u001b[0m\u001b[0mmodel\u001b[0m\u001b[0;34m)\u001b[0m\u001b[0;34m\u001b[0m\u001b[0;34m\u001b[0m\u001b[0m\n\u001b[0m",
      "\u001b[0;32m~/norse-rl/norse_rl/simulate.py\u001b[0m in \u001b[0;36mrun\u001b[0;34m(self, model)\u001b[0m\n\u001b[1;32m    149\u001b[0m         \u001b[0miterations\u001b[0m \u001b[0;34m=\u001b[0m \u001b[0;36m0\u001b[0m\u001b[0;34m\u001b[0m\u001b[0;34m\u001b[0m\u001b[0m\n\u001b[1;32m    150\u001b[0m         \u001b[0mk\u001b[0m \u001b[0;34m=\u001b[0m \u001b[0;36m1\u001b[0m\u001b[0;34m\u001b[0m\u001b[0;34m\u001b[0m\u001b[0m\n\u001b[0;32m--> 151\u001b[0;31m         \u001b[0mnb_cheese\u001b[0m \u001b[0;34m=\u001b[0m \u001b[0mself\u001b[0m\u001b[0;34m.\u001b[0m\u001b[0menv\u001b[0m\u001b[0;34m.\u001b[0m\u001b[0mfood_items\u001b[0m\u001b[0;34m\u001b[0m\u001b[0;34m\u001b[0m\u001b[0m\n\u001b[0m\u001b[1;32m    152\u001b[0m \u001b[0;34m\u001b[0m\u001b[0m\n\u001b[1;32m    153\u001b[0m         \u001b[0;32mtry\u001b[0m\u001b[0;34m:\u001b[0m\u001b[0;34m\u001b[0m\u001b[0;34m\u001b[0m\u001b[0m\n",
      "\u001b[0;31mAttributeError\u001b[0m: 'CartpoleEnv' object has no attribute 'food_items'"
     ]
    }
   ],
   "source": [
    "from norse_rl.workshop import *\n",
    "\n",
    "##\n",
    "## Weight matrix\n",
    "##\n",
    "w = [[ \n",
    "       1,  # Left angle\n",
    "       1,  # Right angle\n",
    "       1,  # Left angular velocity\n",
    "       1   # Right angular velocity\n",
    "    ]]\n",
    "\n",
    "##\n",
    "## Neural network\n",
    "##\n",
    "model = norse.SequentialState(\n",
    "    norse.LIFCell(),\n",
    "    Linear(4, 1, w),\n",
    "    norse.LICell(),\n",
    ")\n",
    "\n",
    "##\n",
    "## Simulate your neural network\n",
    "##\n",
    "run(\"Cartpole-v0\", model)"
   ]
  }
 ],
 "metadata": {
  "interpreter": {
   "hash": "ff3c8702c41245e9707d156558dd3acf9793c0576d67939f0cfc456e1f70ad2e"
  },
  "kernelspec": {
   "display_name": "Python 3 (ipykernel)",
   "language": "python",
   "name": "python3"
  },
  "language_info": {
   "codemirror_mode": {
    "name": "ipython",
    "version": 3
   },
   "file_extension": ".py",
   "mimetype": "text/x-python",
   "name": "python",
   "nbconvert_exporter": "python",
   "pygments_lexer": "ipython3",
   "version": "3.8.10"
  }
 },
 "nbformat": 4,
 "nbformat_minor": 2
}
