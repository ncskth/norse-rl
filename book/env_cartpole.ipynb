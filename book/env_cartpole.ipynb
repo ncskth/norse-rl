{
 "cells": [
  {
   "cell_type": "markdown",
   "metadata": {},
   "source": [
    "# Task 1: Cartpole\n",
    "\n",
    "[![Binder](https://mybinder.org/badge_logo.svg)](https://mybinder.org/v2/gh/ncskth/norse-rl/HEAD?filepath=book%2Fenv_cartpole.ipynb)\n",
    "\n",
    "## Introduction\n",
    "\n",
    "In this task, you are supposed to balance a pole on a cart *for as long as possible*. The pole will wiggle back and forth, and the only thing you can do to prevent it from falling, is to move the cart left or right. For example, if the pole is falling towards the right, the cart can counter-balance that by also moving right which will force the pole towards the left. \n",
    "\n",
    "This is, of course, a delicate balance. Can you keep the pole from falling using spiking neural networks?\n",
    "\n",
    "## Agent inputs and outputs\n",
    "\n",
    "You will receive four **inputs**: left tilt, right tilt, left angular velocity, and right angular velocity.\n",
    "\n",
    "| Input  | Description | Value range | \n",
    "| :----: | :---------: | :---------: |\n",
    "| **Left tilt** | Angular distance towards the left | $[0;4.2]$ |\n",
    "| **Right tilt** | Angular distance towards the right | $[;4.2]$ |\n",
    "| **Left angular velocity** | Angular velocity towards the left | $[-\\infty;\\infty]$ |\n",
    "| **Right angular velocity** | Angular velocity towards the left | $[-\\infty;\\infty]$ |\n",
    "\n",
    "**Output** to the environment consists of a single neuron. If the output is $\\le$ 0, the cart moves left. Otherwise, the cart moves right.\n",
    "\n",
    "$$\n",
    "cart(x) = \\begin{cases}\n",
    "\t\t\t\\text{left}, & \\text{if } x \\le 0\\\\\n",
    "            \\text{right}, & \\text{otherwise}\n",
    "\t\t \\end{cases}\n",
    "$$\n",
    "\n",
    "The environment will terminate if the pole falls more than $0.24$ radians towards the left or right.\n",
    "\n",
    "## How to program your \"brain\"\n",
    "\n",
    "In the code cell below, you can program your \"brain\" by defining \n",
    "1. a **weight matrix** that describes synapse connectivity strength and\n",
    "2. a **neural network** that describes how signals flow from top to bottom\n",
    "\n",
    "Press the <span style=\"font-size: 280%; line-height: 24px; vertical-align: bottom;\">‣</span> button to execute the code."
   ]
  },
  {
   "cell_type": "code",
   "execution_count": 1,
   "metadata": {},
   "outputs": [
    {
     "data": {
      "application/vnd.jupyter.widget-view+json": {
       "model_id": "6e8b8d2662114ed59c8b54e11f6196ba",
       "version_major": 2,
       "version_minor": 0
      },
      "text/plain": [
       "Canvas(height=400, width=900)"
      ]
     },
     "metadata": {},
     "output_type": "display_data"
    }
   ],
   "source": [
    "from norse_rl.workshop import *\n",
    "\n",
    "## Weight matrix\n",
    "w = [[ \n",
    "       1,  # Left angle\n",
    "       1,  # Right angle\n",
    "       1,  # Left angular velocity\n",
    "       1   # Right angular velocity\n",
    "    ]]\n",
    "\n",
    "## Neural network\n",
    "model = norse.SequentialState(\n",
    "    norse.LIFCell(),\n",
    "    Linear(4, 1, w),\n",
    "    norse.LICell(),\n",
    ")\n",
    "\n",
    "## Simulate your neural network\n",
    "run(\"Cartpole-v0\", model)"
   ]
  }
 ],
 "metadata": {
  "interpreter": {
   "hash": "ff3c8702c41245e9707d156558dd3acf9793c0576d67939f0cfc456e1f70ad2e"
  },
  "kernelspec": {
   "display_name": "Python 3 (ipykernel)",
   "language": "python",
   "name": "python3"
  },
  "language_info": {
   "codemirror_mode": {
    "name": "ipython",
    "version": 3
   },
   "file_extension": ".py",
   "mimetype": "text/x-python",
   "name": "python",
   "nbconvert_exporter": "python",
   "pygments_lexer": "ipython3",
   "version": "3.8.10"
  }
 },
 "nbformat": 4,
 "nbformat_minor": 2
}
