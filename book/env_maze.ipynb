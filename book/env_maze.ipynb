{
 "cells": [
  {
   "cell_type": "markdown",
   "id": "581ad65d",
   "metadata": {},
   "source": [
    "# Task 3: Mice and cheese in Maze\n",
    "\n",
    "...\n"
   ]
  },
  {
   "cell_type": "code",
   "execution_count": null,
   "id": "d4afd451",
   "metadata": {},
   "outputs": [],
   "source": [
    "from norse_rl.workshop import *\n",
    "\n",
    "## Weight matrix\n",
    "w = [ [  0.1,  2] \n",
    "    , [ 2,  0.1] ]\n",
    "\n",
    "## Neural network\n",
    "model = norse.SequentialState(\n",
    "    norse.LIFCell(),\n",
    "    Linear(2, 2, w),\n",
    "    norse.LICell(),\n",
    ")\n",
    "\n",
    "## Execute simulation\n",
    "run(\"Mazeworld-v0\", model, show_fps=True)"
   ]
  },
  {
   "cell_type": "code",
   "execution_count": null,
   "id": "1c0f4ad5",
   "metadata": {},
   "outputs": [],
   "source": []
  }
 ],
 "metadata": {
  "celltoolbar": "Edit Metadata",
  "interpreter": {
   "hash": "ff3c8702c41245e9707d156558dd3acf9793c0576d67939f0cfc456e1f70ad2e"
  },
  "kernelspec": {
   "display_name": "Python 3 (ipykernel)",
   "language": "python",
   "name": "python3"
  },
  "language_info": {
   "codemirror_mode": {
    "name": "ipython",
    "version": 3
   },
   "file_extension": ".py",
   "mimetype": "text/x-python",
   "name": "python",
   "nbconvert_exporter": "python",
   "pygments_lexer": "ipython3",
   "version": "3.8.10"
  }
 },
 "nbformat": 4,
 "nbformat_minor": 5
}
