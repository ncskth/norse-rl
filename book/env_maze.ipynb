{
 "cells": [
  {
   "cell_type": "markdown",
   "id": "581ad65d",
   "metadata": {},
   "source": [
    "# Task 3: Mice and cheese in Maze\n",
    "\n",
    "[![Binder](https://mybinder.org/badge_logo.svg)](https://mybinder.org/v2/gh/ncskth/norse-rl/HEAD?filepath=book%2Fenv_maze.ipynb)\n",
    "\n",
    "## Introduction\n",
    "\n",
    "In this task, you are supposed to guide a small mouse to eat as much cheese as possible as fast as possible! In this environment, inspired by the one used in Task 2, the mouse not only processes 'olfactory' information (which is, by the way, enhanced by some notion of distance to cheese) but it also uses its whiskers to be able to detect walls. This sensory information will be vital to be able to find cheese in different suggested mazes.\n",
    "\n",
    "\n",
    "## How to program your \"brain\"\n",
    "\n",
    "In the code cell below, you can program your \"brain\" by defining \n",
    "1. a **weight matrix** that describes synapse connectivity strength and\n",
    "2. a **neural network** that describes how signals flow from top to bottom\n",
    "\n",
    "Press the <span style=\"font-size: 280%; line-height: 24px; vertical-align: bottom;\">‣</span> button to execute the code.\n"
   ]
  },
  {
   "cell_type": "code",
   "execution_count": null,
   "id": "d4afd451",
   "metadata": {
    "scrolled": true
   },
   "outputs": [],
   "source": [
    "from norse_rl.workshop import *\n",
    "\n",
    "# Weight matrix\n",
    "w = [ [ 1,  0.8, 0.0, 0.0, 0.1] \n",
    "    , [ -1, 0.1, 0.0, 0.0, 0.1] ]\n",
    "\n",
    "## Neural network\n",
    "model = norse.SequentialState(\n",
    "    norse.LIFCell(),\n",
    "    Linear(5, 2, w),\n",
    "    norse.LICell(),\n",
    ")\n",
    "\n",
    "## Execute simulation\n",
    "run(\"Mazeworld-v0\", model, level=1)"
   ]
  },
  {
   "cell_type": "code",
   "execution_count": null,
   "id": "1fe19d64",
   "metadata": {},
   "outputs": [],
   "source": [
    "from norse_rl.workshop import *\n",
    "\n",
    "# Weight matrix\n",
    "w = [ [ 2,  0.1, 0.5, 2, 0.1] \n",
    "    , [ 0.1, 0.01, 1, 0.2, 0.1] ]\n",
    "\n",
    "## Neural network\n",
    "model = norse.SequentialState(\n",
    "    norse.LIFCell(),\n",
    "    Linear(5, 2, w),\n",
    "    norse.LICell(),\n",
    ")\n",
    "\n",
    "## Execute simulation\n",
    "run(\"Mazeworld-v0\", model, level=2)"
   ]
  },
  {
   "cell_type": "code",
   "execution_count": null,
   "id": "3127ca0c",
   "metadata": {},
   "outputs": [],
   "source": [
    "from norse_rl.workshop import *\n",
    "\n",
    "# Weight matrix\n",
    "w = [ [ 0.2,  1, 0.5, -0.3, 0.7] \n",
    "    , [ -0.5, 0.1, 0.4, 0.6, 0.1] ]\n",
    "\n",
    "## Neural network\n",
    "model = norse.SequentialState(\n",
    "    norse.LIFCell(),\n",
    "    Linear(5, 2, w),\n",
    "    norse.LICell(),\n",
    ")\n",
    "\n",
    "## Execute simulation\n",
    "run(\"Mazeworld-v0\", model, level=3)"
   ]
  },
  {
   "cell_type": "code",
   "execution_count": null,
   "id": "ad47a778",
   "metadata": {},
   "outputs": [],
   "source": [
    "from norse_rl.workshop import *\n",
    "\n",
    "# Weight matrix\n",
    "w = [ [ 1,  -1, 0.5, 2, 0.4] \n",
    "    , [ 0.4, 0.6, 1, 0.2, -0.1] ]\n",
    "\n",
    "## Neural network\n",
    "model = norse.SequentialState(\n",
    "    norse.LIFCell(),\n",
    "    Linear(5, 2, w),\n",
    "    norse.LICell(),\n",
    ")\n",
    "\n",
    "## Execute simulation\n",
    "run(\"Mazeworld-v0\", model, level=4)"
   ]
  },
  {
   "cell_type": "code",
   "execution_count": null,
   "id": "21c8018d",
   "metadata": {},
   "outputs": [],
   "source": []
  }
 ],
 "metadata": {
  "celltoolbar": "Edit Metadata",
  "interpreter": {
   "hash": "ff3c8702c41245e9707d156558dd3acf9793c0576d67939f0cfc456e1f70ad2e"
  },
  "kernelspec": {
   "display_name": "Python 3 (ipykernel)",
   "language": "python",
   "name": "python3"
  },
  "language_info": {
   "codemirror_mode": {
    "name": "ipython",
    "version": 3
   },
   "file_extension": ".py",
   "mimetype": "text/x-python",
   "name": "python",
   "nbconvert_exporter": "python",
   "pygments_lexer": "ipython3",
   "version": "3.8.10"
  }
 },
 "nbformat": 4,
 "nbformat_minor": 5
}
