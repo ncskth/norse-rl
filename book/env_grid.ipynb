{
 "cells": [
  {
   "cell_type": "markdown",
   "id": "581ad65d",
   "metadata": {},
   "source": [
    "# Task 2: Mice and cheese\n",
    "\n",
    "[![Binder](https://mybinder.org/badge_logo.svg)](https://mybinder.org/v2/gh/ncskth/norse-rl/HEAD?filepath=book%2Fenv_grid.ipynb)\n",
    "\n",
    "![Closed loop](https://github.com/ncskth/norse-rl/raw/master/book/EnvAgentBrain.png)\n",
    "\n",
    "## Introduction\n",
    "\n",
    "In this task, you are supposed to guide a small mouse to eat as much cheese as possible! The environment itself is simple: a mouse is moving around looking for pieces of cheese. The mouse can *smell* the cheese through two \"nostrils\": a left nostril and a right nostril. Each nostril emit a signal when they detect a piece of cheese in the direction of the nostril. Example: If there is a piece of cheese in a 90° angle to the *left* of the mouse, then the left nostril will emit a signal while the right nostril stays silent.\n",
    "\n",
    "You goal? Pick up all the cheeses around the mouse - as fast as possible!\n",
    "\n",
    "## Agent inputs and outputs\n",
    "\n",
    "You will receive two **inputs**: Angle values for the left and right nostrils.\n",
    "\n",
    "| Input  | Description | Value range | \n",
    "| :----  | :---------  | :---------  |\n",
    "| **Left nostril angle** | Angular distance towards the closest piece of cheese to the left (if the closest cheese is towards the right) | $[0;0.5]$ |\n",
    "| **Right nostril angle** | Angular distance towards the closest piece of cheese to the right (if the closest cheese is towards the right) | $[0;0.5]$ |\n",
    "\n",
    "**Output** to the environment consists of a two neurons that both moves *and* turns the mouse. \n",
    "\n",
    "* Locomotion: The *least common denominator* will determine the acceleration, but *at least* by some randomly determined amount $\\in [0.2;2]$ (to keep the mouse exploring).\n",
    "  * Example: If both neurons are active, the mouse will move forward by the average output value.\n",
    "  * Example: If neither neurons are active, the mouse will only move by a small, random determined amount.\n",
    "* Rotation: The *difference* between the output neurons will determine the amount of rotation\n",
    "  * Example: if the topmost neuron fires, the mouse will more *further* on its left side than it's right side, causing a *right* turn.\n",
    "  * Example: if the bottommost neuron fires, the right \"legs\" of the mouse will move faster, meaning that the mouse will turn towards the left.\n",
    "\n",
    "The environment will terminate if there are no more cheese left.\n",
    "\n",
    "## How to program your \"brain\"\n",
    "\n",
    "In the code cell below, you can program your \"brain\" by defining \n",
    "1. a **weight matrix** that describes synapse connectivity strength and\n",
    "2. a **neural network** that describes how signals flow from top to bottom\n",
    "\n",
    "Press the <span style=\"font-size: 280%; line-height: 24px; vertical-align: bottom;\">‣</span> button to execute the code."
   ]
  },
  {
   "cell_type": "code",
   "execution_count": 2,
   "id": "2bd1f3e2",
   "metadata": {},
   "outputs": [
    {
     "data": {
      "application/vnd.jupyter.widget-view+json": {
       "model_id": "4eba73724b88468a88aaf4c042690d55",
       "version_major": 2,
       "version_minor": 0
      },
      "text/plain": [
       "Canvas(height=400, width=900)"
      ]
     },
     "metadata": {},
     "output_type": "display_data"
    }
   ],
   "source": [
    "from norse_rl.workshop import *\n",
    "\n",
    "##\n",
    "## Weight matrix\n",
    "##\n",
    "\n",
    "w = [[  \n",
    "       1,  # Left angle  -> Forward right\n",
    "       1   # Right angle -> Forward right\n",
    "    ],[  \n",
    "       1,  # Left angle  -> Forward left\n",
    "       1   # Right angle -> Forward left\n",
    "    ]]\n",
    "\n",
    "##\n",
    "## Neural network\n",
    "##\n",
    "model = norse.SequentialState(\n",
    "    norse.LIFCell(),\n",
    "    Linear(2, 2, w),\n",
    "    norse.LICell(),\n",
    ")\n",
    "\n",
    "##\n",
    "## Execute simulation\n",
    "##\n",
    "run(\"Gridworld-v0\", model)"
   ]
  }
 ],
 "metadata": {
  "celltoolbar": "Edit Metadata",
  "interpreter": {
   "hash": "ff3c8702c41245e9707d156558dd3acf9793c0576d67939f0cfc456e1f70ad2e"
  },
  "kernelspec": {
   "display_name": "Python 3 (ipykernel)",
   "language": "python",
   "name": "python3"
  },
  "language_info": {
   "codemirror_mode": {
    "name": "ipython",
    "version": 3
   },
   "file_extension": ".py",
   "mimetype": "text/x-python",
   "name": "python",
   "nbconvert_exporter": "python",
   "pygments_lexer": "ipython3",
   "version": "3.8.10"
  }
 },
 "nbformat": 4,
 "nbformat_minor": 5
}
