{
 "cells": [
  {
   "cell_type": "markdown",
   "id": "581ad65d",
   "metadata": {},
   "source": [
    "# Task 2: Mice and cheese\n",
    "\n",
    "[![Binder](https://mybinder.org/badge_logo.svg)](https://mybinder.org/v2/gh/ncskth/norse-rl/HEAD?filepath=book%2Fenv_grid.ipynb)\n",
    "\n",
    "## Introduction\n",
    "\n",
    "In this task, you are supposed to guide a small mouse to eat as much cheese as possible! The environment itself is simple: a mouse is moving around looking for pieces of cheese spread out around it. The mouse can *smell* the cheese through two \"nostrils\": a left nostril and a right nostril. The sensors emit strong signals when they detect a cheese that is far away from the mouse's current orientation. Example: If there is a piece of cheese in a 90° angle to the *left* of the mouse, then the left nostril will emit a signal while the right nostril is silent.\n",
    "\n",
    "You goal? Pick up all the cheeses around the mouse - as fast as possible!\n",
    "\n",
    "## How to program your \"brain\"\n",
    "\n",
    "In the code cell below, you can program your \"brain\" by defining \n",
    "1. a **weight matrix** that describes synapse connectivity strength and\n",
    "2. a **neural network** that describes how signals flow from top to bottom\n",
    "\n",
    "Press the <span style=\"font-size: 280%; line-height: 24px; vertical-align: bottom;\">‣</span> button to execute the code."
   ]
  },
  {
   "cell_type": "code",
   "execution_count": 1,
   "id": "2bd1f3e2",
   "metadata": {},
   "outputs": [
    {
     "data": {
      "application/vnd.jupyter.widget-view+json": {
       "model_id": "e586138a6d514d5baa6acb3f219d0315",
       "version_major": 2,
       "version_minor": 0
      },
      "text/plain": [
       "Canvas(height=400, width=900)"
      ]
     },
     "metadata": {},
     "output_type": "display_data"
    }
   ],
   "source": [
    "from norse_rl.workshop import *\n",
    "\n",
    "## Weight matrix\n",
    "w = [ [  2,  2] \n",
    "    , [ -1,  0] ]\n",
    "\n",
    "## Neural network\n",
    "model = norse.SequentialState(\n",
    "    norse.LIFCell(),\n",
    "    Linear(2, 2, w),\n",
    "    norse.LICell(),\n",
    ")\n",
    "\n",
    "## Execute simulation\n",
    "run(\"Gridworld-v0\", model, show_fps=True)"
   ]
  }
 ],
 "metadata": {
  "celltoolbar": "Edit Metadata",
  "interpreter": {
   "hash": "ff3c8702c41245e9707d156558dd3acf9793c0576d67939f0cfc456e1f70ad2e"
  },
  "kernelspec": {
   "display_name": "Python 3 (ipykernel)",
   "language": "python",
   "name": "python3"
  },
  "language_info": {
   "codemirror_mode": {
    "name": "ipython",
    "version": 3
   },
   "file_extension": ".py",
   "mimetype": "text/x-python",
   "name": "python",
   "nbconvert_exporter": "python",
   "pygments_lexer": "ipython3",
   "version": "3.8.10"
  }
 },
 "nbformat": 4,
 "nbformat_minor": 5
}
