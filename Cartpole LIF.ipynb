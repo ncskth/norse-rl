{
 "cells": [
  {
   "cell_type": "code",
   "execution_count": 1,
   "id": "60bceee7",
   "metadata": {},
   "outputs": [
    {
     "data": {
      "text/plain": [
       "<pyvirtualdisplay.display.Display at 0x7fdcd4641e80>"
      ]
     },
     "execution_count": 1,
     "metadata": {},
     "output_type": "execute_result"
    }
   ],
   "source": [
    "%matplotlib inline\n",
    "import gym  # open ai gym\n",
    "#mport pybulletgym # register PyBullet enviroments with open ai gym\n",
    "from IPython import display\n",
    "import matplotlib\n",
    "import matplotlib.pyplot as plt\n",
    "import torch\n",
    "\n",
    "from pyvirtualdisplay import Display\n",
    "Display(visible=0, size=(960, 720)).start()  "
   ]
  },
  {
   "cell_type": "code",
   "execution_count": 2,
   "id": "8c7ea174",
   "metadata": {},
   "outputs": [],
   "source": [
    "env = gym.make('CartPole-v0')\n",
    "## State\n",
    "# Cart position [-4.8, 4.8]\n",
    "# Velocity [-Inf, Inf]\n",
    "# Pole Angle [-0.418 rad (-24 deg), 0.418 rad (24 deg)]\n",
    "# Pole Angular Velocity [-Inf, Inf]\n",
    "\n",
    "## Action\n",
    "# 0 left\n",
    "# 1 right"
   ]
  },
  {
   "cell_type": "code",
   "execution_count": 3,
   "id": "64c43657",
   "metadata": {},
   "outputs": [],
   "source": [
    "env.env.tau = 0.005"
   ]
  },
  {
   "cell_type": "code",
   "execution_count": 4,
   "id": "8b051967",
   "metadata": {},
   "outputs": [],
   "source": [
    "import torch\n",
    "import norse.torch as nn"
   ]
  },
  {
   "cell_type": "code",
   "execution_count": 5,
   "id": "6382a20a",
   "metadata": {},
   "outputs": [],
   "source": [
    "state = None"
   ]
  },
  {
   "cell_type": "code",
   "execution_count": 6,
   "id": "b2d893e6",
   "metadata": {},
   "outputs": [],
   "source": [
    "def ask_network(observation, state=None):\n",
    "    global activities\n",
    "    activities = []\n",
    "    observation = torch.tensor(observation)\n",
    "    action, state = model(observation, state)\n",
    "    print(action)\n",
    "    return 0 if action > 0 else 1, state"
   ]
  },
  {
   "cell_type": "code",
   "execution_count": 7,
   "id": "d4315d5b",
   "metadata": {},
   "outputs": [],
   "source": [
    "linear = torch.nn.Linear(4, 1, bias=False)\n",
    "model = nn.SequentialState(\n",
    "    nn.LIFCell(),\n",
    "    linear,\n",
    "    nn.LIFCell()\n",
    ").eval()"
   ]
  },
  {
   "cell_type": "code",
   "execution_count": 8,
   "id": "3634390a",
   "metadata": {},
   "outputs": [],
   "source": [
    "activities = []\n",
    "def forward_state_hook(mod, inp, out):\n",
    "    activities.append(out)\n",
    "model.register_forward_state_hooks(forward_state_hook)"
   ]
  },
  {
   "cell_type": "code",
   "execution_count": 20,
   "id": "7c6da5b1",
   "metadata": {},
   "outputs": [],
   "source": [
    "def draw_layer(ys, x, axes):\n",
    "    xs_0 = [x for y in ys if not y == 1]\n",
    "    if len(ys) == 1:\n",
    "        lin = [0.5]\n",
    "    else:\n",
    "        lin = torch.linspace(0, 1, len(ys))\n",
    "    ys_0 = [c for (c, y) in zip(lin, ys) if not y == 1]\n",
    "    points = axes.plot(xs_0, ys_0, 'ob', markersize=50)\n",
    "    xs_1 = [x for y in ys if y == 1]\n",
    "    ys_1 = [c for (c, y) in zip(lin, ys) if y == 1]\n",
    "    points = axes.plot(xs_1, ys_1, 'or', markersize=60)"
   ]
  },
  {
   "cell_type": "code",
   "execution_count": 10,
   "id": "0297ae12",
   "metadata": {},
   "outputs": [],
   "source": [
    "def draw_model(activities):\n",
    "    plt.gca().set_xlim(-0.5, 1.5)\n",
    "    plt.gca().set_ylim(-0.2, 1.2)\n",
    "    for i, layer in enumerate(activities):\n",
    "        draw_layer(layer, i, plt)"
   ]
  },
  {
   "cell_type": "code",
   "execution_count": 18,
   "id": "0d86b574",
   "metadata": {},
   "outputs": [],
   "source": [
    "linear.weight = torch.nn.Parameter(\n",
    "    torch.Tensor([[1, 1, 1, 1]])\n",
    ")"
   ]
  },
  {
   "cell_type": "code",
   "execution_count": 12,
   "id": "8e0f3560",
   "metadata": {},
   "outputs": [],
   "source": [
    "linear.weight = torch.nn.Parameter(torch.Tensor([[2, 1, 0., 0.]]))"
   ]
  },
  {
   "cell_type": "code",
   "execution_count": 16,
   "id": "15824110",
   "metadata": {},
   "outputs": [
    {
     "name": "stdout",
     "output_type": "stream",
     "text": [
      "tensor([0.], grad_fn=<CppNode<SuperFunction>>)\n"
     ]
    },
    {
     "data": {
      "text/plain": [
       "[tensor([0., 0., 0., 0.]), tensor([0.])]"
      ]
     },
     "execution_count": 16,
     "metadata": {},
     "output_type": "execute_result"
    }
   ],
   "source": [
    "ask_network(env.reset(), state)\n",
    "[x[0].detach() for x in activities]"
   ]
  },
  {
   "cell_type": "code",
   "execution_count": 22,
   "id": "6801af92",
   "metadata": {
    "hide_input": false
   },
   "outputs": [
    {
     "name": "stdout",
     "output_type": "stream",
     "text": [
      "tensor([0.], grad_fn=<CppNode<SuperFunction>>)\n"
     ]
    },
    {
     "data": {
      "image/png": "[encoded data removed]",
      "text/plain": [
       "<Figure size 1152x432 with 2 Axes>"
      ]
     },
     "metadata": {
      "needs_background": "light"
     },
     "output_type": "display_data"
    }
   ],
   "source": [
    "\n",
    "observation = env.reset()\n",
    "state = None\n",
    "is_done = False\n",
    "f, (ax1, ax2) = plt.subplots(1, 2, figsize=(16,6))\n",
    "img = ax1.imshow(env.render(mode='rgb_array')) # only call this once\n",
    "vs = [0] * 50\n",
    "while not is_done:\n",
    "    img.set_data(env.render(mode='rgb_array')) # just update the data\n",
    "    display.display(f)\n",
    "    display.clear_output(wait=True)\n",
    "    action, state = ask_network(observation, state)\n",
    "    vs.append(state[-1].v.detach())\n",
    "    ax2.clear()\n",
    "    ax2.set_ylim(-2, 2)\n",
    "    #ax2.plot(vs)\n",
    "    draw_model([x[0].detach() for x in activities])\n",
    "    if len(vs) > 49:\n",
    "        vs = vs[1:]\n",
    "    observation, _, is_done, _ = env.step(action)"
   ]
  },
  {
   "cell_type": "code",
   "execution_count": null,
   "id": "dbd677fa",
   "metadata": {},
   "outputs": [],
   "source": [
    "\n",
    "\n",
    "\n",
    "\n",
    "\n",
    "\n",
    "\n",
    "\n",
    "\n",
    "\n",
    "\n",
    "\n",
    "\n",
    "\n",
    "\n",
    "\n",
    "\n",
    "\n",
    "\n",
    "\n",
    "\n",
    "\n",
    "\n",
    "\n",
    "\n"
   ]
  }
 ],
 "metadata": {
  "interpreter": {
   "hash": "ff3c8702c41245e9707d156558dd3acf9793c0576d67939f0cfc456e1f70ad2e"
  },
  "kernelspec": {
   "display_name": "Python 3 (ipykernel)",
   "language": "python",
   "name": "python3"
  },
  "language_info": {
   "codemirror_mode": {
    "name": "ipython",
    "version": 3
   },
   "file_extension": ".py",
   "mimetype": "text/x-python",
   "name": "python",
   "nbconvert_exporter": "python",
   "pygments_lexer": "ipython3",
   "version": "3.8.10"
  }
 },
 "nbformat": 4,
 "nbformat_minor": 5
}
